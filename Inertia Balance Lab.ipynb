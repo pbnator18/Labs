{
 "cells": [
  {
   "cell_type": "markdown",
   "metadata": {},
   "source": [
    "## Oscillation of Intertial Balance and How Weight Affects It"
   ]
  },
  {
   "cell_type": "markdown",
   "metadata": {},
   "source": [
    "### Hussain Hassan, Paul Nator, Esteven Velazquez"
   ]
  },
  {
   "cell_type": "markdown",
   "metadata": {},
   "source": [
    "## Introduction"
   ]
  },
  {
   "cell_type": "markdown",
   "metadata": {},
   "source": [
    "The inertial balance we used is a spring device that vibrates the body in order to change the\n",
    "velocity and record the inertia of a mass. With it, we would determine to see how long it would take an entire oscillation, a complete back and forth movement of an object at a regular a speed, to occur. The time it would take is also known as the period."
   ]
  },
  {
   "cell_type": "markdown",
   "metadata": {},
   "source": [
    "## Procedure"
   ]
  },
  {
   "cell_type": "markdown",
   "metadata": {},
   "source": [
    "We first attached the inertial balance to a stable ledge, so that it would stay in place and hang freely without any obstructions. The inertial balance was then displaced by 1 cm and recorded to see how long it would take for a complete oscillation to occur for up to 10 oscillations. Increments of 100 g was then added and tested again the same way. The masses had to be taped to the inertial balance, so that they would not be constantly moving along with the balance and stay in a set position."
   ]
  },
  {
   "cell_type": "markdown",
   "metadata": {},
   "source": [
    "## Data & Analysis"
   ]
  },
  {
   "cell_type": "markdown",
   "metadata": {},
   "source": [
    "| Oscillation  000 g | Time | Time In between Oscillation | Oscillations 100 g | Time | Time In Between Oscillations | Oscillations 200 g | Time | Time In between Oscillation |\n",
    "|:---------------:|:----:|:---------------------------:|:------------------:|:----:|:----------------------------:|:------------------:|:----:|:---------------------------:|\n",
    "| 1 | 0 | - | 1 | 0 | - | 1 | 0 | - |\n",
    "| 2 | .28 | .28 | 2 | .31 | .31 | 2 | .31 | .31 |\n",
    "| 3 | .5 | .22 | 3 | .60 | .29 | 3 | .60 | .30 |\n",
    "| 4 | .73 | .23 | 4 | .90 | .30 | 4 | .90 | .30 |\n",
    "| 5 | 1.01 | .28 | 5 | 1.23 | .33 | 5 | 1.24 | .34 |\n",
    "| 6 | 1.25 | .24 | 6 | 1.52 | .29 | 6 | 1.52 | .28 |\n",
    "| 7 | 1.47 | .22 | 7 | 1.83 | .31 | 7 | 1.83 | .31 |\n",
    "| 8 | 1.69 | .29 | 8 | 2.13 | .30 | 8 | 2.14 | .31 |\n",
    "| 9 | 1.98 | .25 | 9 | 2.44 | .31 | 9 | 2.43 | .29 |\n",
    "| 10 | 2.23 | .25 | 10 | 2.77 | .33 | 10 | 2.76 | .33 |\n",
    "\n",
    "| Oscillation 300 g | Time | Time In between Oscillation | Oscillations 400 g | Time | Time In Between Oscillations | Oscillations 500 g | Time | Time In between Oscillation |\n",
    "|:-----------------:|:----:|:---------------------------:|:------------------:|:----:|:----------------------------:|:------------------:|:----:|:---------------------------:|\n",
    "| 1 | 0 | - | 1 | 0 | - | 1 | 0 | - |\n",
    "| 2 | .38 | .38 | 2 | .38 | .38 | 2 | .49 | .49 |\n",
    "| 3 | .74 | .36 | 3 | .78 | .40 | 3 | .98 | .49 |\n",
    "| 4 | 1.09 | .35 | 4 | 1.18 | .40 | 4 | 1.45 | .47 |\n",
    "| 5 | 1.45 | .36 | 5 | 1.54 | .36 | 5 | 1.97 | .52 |\n",
    "| 6 | 1.81 | .36 | 6 | 1.98 | .44 | 6 | 2.43 | .46 |\n",
    "| 7 | 2.15 | .34 | 7 | 2.38 | .40 | 7 | 2.89 | .46 |\n",
    "| 8 | 2.52 | .37 | 8 | 2.78 | ,40 | 8 | 3.39 | .50 |\n",
    "| 9 | 2.89 | .37 | 9 | 3.17 | .39 | 9 | 3.85 | .46 |\n",
    "| 10 | 3.25 | .36 | 10 | 3.56 | .39 | 10 | 4.33 | .48 |"
   ]
  },
  {
   "cell_type": "code",
   "execution_count": 16,
   "metadata": {
    "collapsed": false
   },
   "outputs": [
    {
     "name": "stdout",
     "output_type": "stream",
     "text": [
      " \n",
      "246.2 x - 525.5\n"
     ]
    },
    {
     "data": {
      "image/png": "[encoded data removed]",
      "text/plain": [
       "<matplotlib.figure.Figure at 0x7edd850>"
      ]
     },
     "metadata": {},
     "output_type": "display_data"
    }
   ],
   "source": [
    "%matplotlib inline\n",
    "\n",
    "import matplotlib.pyplot as plt\n",
    "\n",
    "\n",
    "plt.plot([0,100,200,300,400,500], [2.23,2.77,2.76,3.25,3.56,4.33], 'r.')\n",
    "plt.ylabel('Weight (g)')\n",
    "plt.xlabel('Time to Complete 10 Oscillations ')\n",
    "plt.title('Oscillation Time in Relation to Weight')\n",
    "plt.axis([50, 350, 0.2, 1])\n",
    "\n",
    "import numpy as np\n",
    "import matplotlib.pyplot as plt\n",
    "\n",
    "x = [2.23,2.77,2.76,3.25,3.56,4.33]\n",
    "y = [0,100,200,300,400,500]\n",
    "\n",
    "fit = np.polyfit(x,y,1)\n",
    "fit_fn = np.poly1d(fit) \n",
    "\n",
    "plt.plot(x,y, 'bo', x, fit_fn(x), '--k')\n",
    "plt.xlim(2, 5)\n",
    "plt.ylim(-10, 600)\n",
    "\n",
    "print(fit_fn)\n"
   ]
  },
  {
   "cell_type": "markdown",
   "metadata": {},
   "source": [
    "## Results"
   ]
  },
  {
   "cell_type": "markdown",
   "metadata": {},
   "source": [
    "$$ y= 246.2 x - 525.5 $$\n",
    "\n",
    "The line we obtain to best fit our results can give us estimates for how much time would be needed for each amount of weight. In an ideal situation the points show a strong colleration in time and weight by producing points in a strait line, but due to human error, our results are more scattered. \n"
   ]
  },
  {
   "cell_type": "markdown",
   "metadata": {},
   "source": [
    "## Conclusion"
   ]
  },
  {
   "cell_type": "markdown",
   "metadata": {},
   "source": [
    "Through our experiment, we were able to conclude that the amount of time to complete 10 oscillations would change depending on the weight. As the weight increased, the time it would take for an oscillation to complete would increase as well. "
   ]
  },
  {
   "cell_type": "code",
   "execution_count": null,
   "metadata": {
    "collapsed": true
   },
   "outputs": [],
   "source": []
  }
 ],
 "metadata": {
  "kernelspec": {
   "display_name": "Python 3",
   "language": "python",
   "name": "python3"
  },
  "language_info": {
   "codemirror_mode": {
    "name": "ipython",
    "version": 3
   },
   "file_extension": ".py",
   "mimetype": "text/x-python",
   "name": "python",
   "nbconvert_exporter": "python",
   "pygments_lexer": "ipython3",
   "version": "3.5.2"
  }
 },
 "nbformat": 4,
 "nbformat_minor": 1
}
