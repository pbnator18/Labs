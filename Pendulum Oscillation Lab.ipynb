{
 "cells": [
  {
   "cell_type": "markdown",
   "metadata": {
    "collapsed": true
   },
   "source": [
    "# Pendulum Oscillation Lab"
   ]
  },
  {
   "cell_type": "markdown",
   "metadata": {},
   "source": [
    "### Paul Nator"
   ]
  },
  {
   "cell_type": "markdown",
   "metadata": {},
   "source": [
    "## Introduction"
   ]
  },
  {
   "cell_type": "markdown",
   "metadata": {},
   "source": [
    "For this lab, we were tasked with constructing a physcial pendulum and achieving a specific period of oscillation of 1 second. A physical pendulum is a pendulum where the rod or string is not massless, and may have extended size; that is, an arbitrarily-shaped, rigid body swinging by a pivot. This means that its oscillation period is affected by its moment of inertia, how much a body can resist angular acceleration, at its pivot point."
   ]
  },
  {
   "cell_type": "markdown",
   "metadata": {},
   "source": [
    "## Procedure"
   ]
  },
  {
   "cell_type": "markdown",
   "metadata": {},
   "source": [
    "To construct my pendulum, I used various wooden pieces, thumbtacks, nails, rice, and a small styrofoam cup. I used the wooden pieces to construct a base and a type of crane-like contraption on top of it to hold my object. As for the object, I used a rectangular wooden piece held by a nail attached to the crane. I then attached the styrofoam cup to the wooden piece using the thumbtacks and used the rice to change the mass of the object. The oscillation was then tested by pulling one side of the object and letting it swing side to side. The oscillation period was then measured over 10 seconds and finding the average osicallation time after 10 oscialltions."
   ]
  },
  {
   "cell_type": "markdown",
   "metadata": {},
   "source": [
    "## Data & Analysis"
   ]
  },
  {
   "cell_type": "markdown",
   "metadata": {},
   "source": [
    "Initially without any additional mass added onto the styrofoam cup, the average period of oscillation across 10 oscillations was about 6.9 seconds. After filling the entire cup with rice, which is roughly 7 oz., the average period of oscillation across 10 oscillations was about 8.1 seconds."
   ]
  },
  {
   "cell_type": "markdown",
   "metadata": {},
   "source": [
    "## Results"
   ]
  },
  {
   "cell_type": "markdown",
   "metadata": {},
   "source": [
    "Without any mass added, each oscillation was roughly .69 seconds. With added mass, the oscillation was roughly .81 seconds. With further testing, the oscillation period would have had a linear increase in time relative to its weight."
   ]
  },
  {
   "cell_type": "markdown",
   "metadata": {},
   "source": [
    "## Conclusion"
   ]
  },
  {
   "cell_type": "markdown",
   "metadata": {},
   "source": [
    "Adding more mass to the object increased the time it would take for a period of oscillation to complete. This happened because adding more weight increased the moment of inertia around its pivot point, the nail. With this, the angular acceleration was slowed, and the object oscillated slower as well. I wasn't able to achieve the 1 second oscillation goal. I could've added more mass so that the moment of inertia increased. My design was flawed as well. My object would constantly hit against the nail as it oscillated, preventing it to oscillate further and causing the object to oscillate slightly faster then it should've been."
   ]
  }
 ],
 "metadata": {
  "anaconda-cloud": {},
  "kernelspec": {
   "display_name": "Python [default]",
   "language": "python",
   "name": "python3"
  },
  "language_info": {
   "codemirror_mode": {
    "name": "ipython",
    "version": 3
   },
   "file_extension": ".py",
   "mimetype": "text/x-python",
   "name": "python",
   "nbconvert_exporter": "python",
   "pygments_lexer": "ipython3",
   "version": "3.5.2"
  }
 },
 "nbformat": 4,
 "nbformat_minor": 1
}
