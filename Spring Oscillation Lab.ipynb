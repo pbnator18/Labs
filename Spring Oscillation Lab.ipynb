{
 "cells": [
  {
   "cell_type": "code",
   "execution_count": null,
   "metadata": {
    "collapsed": true
   },
   "outputs": [],
   "source": [
    "%matplotlib inline"
   ]
  },
  {
   "cell_type": "markdown",
   "metadata": {},
   "source": [
    "# Spring Oscillation Relationship of Time and Mass"
   ]
  },
  {
   "cell_type": "markdown",
   "metadata": {},
   "source": [
    "### Hussain Hassan, Paul Nator, Esteven Velazquez"
   ]
  },
  {
   "cell_type": "markdown",
   "metadata": {},
   "source": [
    "## Introduction"
   ]
  },
  {
   "cell_type": "markdown",
   "metadata": {
    "collapsed": true
   },
   "source": [
    "Hooke's law states the force needed to extend a spring a some distance is proportional to that distance. Knowing this information we can test to see if this is true by measuring oscillation times in relation to weight. \n",
    "\n",
    "For this simple harmonic motion we can expect time to be linearly proportional when they are equally displaced at different weights. \n"
   ]
  },
  {
   "cell_type": "markdown",
   "metadata": {},
   "source": [
    "$$  F_{net}=-kx$$\n",
    "[//]: # ($$ T= 2\\pi \\sqrt{\\frac{m}{n}} $$)\n",
    "[//]: # ($$ f= \\frac{\\omega}{2\\pi} $$)"
   ]
  },
  {
   "cell_type": "markdown",
   "metadata": {},
   "source": [
    "## Procedure"
   ]
  },
  {
   "cell_type": "markdown",
   "metadata": {
    "collapsed": true
   },
   "source": [
    "For this lab, we used a spring apparatus and masses of 100g each. We applied each weight in 100g increments up to 300g. Afterwards the spring apparatus was pulled down about 1 cm from its equilibrium so that the weight and spring would oscillate. The amount of time in between each oscillation was recorded in slow motion and then measured. With the data collected we averaged the amount of time it takes it complete one oscillation for each weight. \n"
   ]
  },
  {
   "cell_type": "markdown",
   "metadata": {},
   "source": [
    "## Data & Analysis"
   ]
  },
  {
   "cell_type": "markdown",
   "metadata": {},
   "source": [
    "#### <center>100 Grams grams</center>\n",
    "| Oscillations \t| Time \t| Time In between Oscillation \t| \n",
    "|:------------:\t|:----:\t|:---------------------------:\t| \n",
    "|       1      \t|   0  \t|              -              \t| \n",
    "|       2      \t|  .41 \t|             .41             \t| \n",
    "|       3      \t|  .85 \t|             .44             \t| \n",
    "|       4      \t| 1.29 \t|             .44             \t| \n",
    "|       5      \t|  1.8 \t|             .51             \t| \n",
    "|       6      \t|  2.2 \t|              .4             \t| \n",
    "|       7      \t| 2.61 \t|             .41             \t| \n",
    "|       8      \t| 3.09 \t|             .48             \t| \n",
    "|       9      \t| 3.55 \t|             .46             \t| \n",
    "|      10      \t| 3.98 \t|             .43             \t| \n",
    "|      Average Oscillation time      \t| 0.4422 \t|\n",
    "\n",
    "\n",
    "\n",
    "\n",
    "\n",
    "#### <center>200 Grams grams</center>\n",
    "| Oscillations \t| Time \t| Time In between Oscillation \t|\n",
    "|:------------:\t|:----:\t|:---------------------------:\t|\n",
    "|       1      \t|   0  \t|              -              \t|\n",
    "|       2      \t|  .56 \t|             .56             \t|\n",
    "|       3      \t| 1.18 \t|             .62             \t|\n",
    "|       4      \t| 1.77 \t|             .59             \t|\n",
    "|       5      \t| 2.37 \t|             .60             \t|\n",
    "|       6      \t| 2.97 \t|             .59             \t|\n",
    "|       7      \t| 3.57 \t|             .61             \t|\n",
    "|       8      \t| 4.20 \t|             .63             \t|\n",
    "|       9      \t| 4.76 \t|             .56             \t|\n",
    "|      10      \t| 5.38 \t|             .62             \t|\n",
    "|      Average Oscillation time      \t| 0.597|\n",
    "\n",
    "\n",
    "\n",
    "#### <center>300 Grams grams</center>\n",
    "\n",
    "| Oscillations \t| Time \t| Time In between Oscillation \t|\n",
    "|:------------:\t|:----:\t|:---------------------------:\t|\n",
    "|       1      \t|   0  \t|              -              \t|\n",
    "|       2      \t|  .80 \t|              .8             \t|\n",
    "|       3      \t| 1.51 \t|             .72             \t|\n",
    "|       4      \t| 2.23 \t|             .72             \t|\n",
    "|       5      \t| 3.02 \t|             .79             \t|\n",
    "|       6      \t| 3.67 \t|             .65             \t|\n",
    "|       7      \t| 4.40 \t|             .73             \t|\n",
    "|       8      \t| 5.13 \t|             .73             \t|\n",
    "|       9      \t| 5.83 \t|             .70             \t|\n",
    "|      10      \t| 6.62 \t|             .79             \t|\n",
    "|      Average Oscillation time      \t| 0.7355|\n",
    "\n"
   ]
  },
  {
   "cell_type": "code",
   "execution_count": 19,
   "metadata": {
    "collapsed": false
   },
   "outputs": [
    {
     "name": "stdout",
     "output_type": "stream",
     "text": [
      " \n",
      "0.0132 x + 2.687\n"
     ]
    },
    {
     "data": {
      "image/png": "[encoded data removed]",
      "text/plain": [
       "<matplotlib.figure.Figure at 0x74000d0>"
      ]
     },
     "metadata": {},
     "output_type": "display_data"
    }
   ],
   "source": [
    "%matplotlib inline\n",
    "\n",
    "import matplotlib.pyplot as plt\n",
    "\n",
    "\n",
    "plt.plot([100,200,300], [3.98,5.38,6.62], 'r.')\n",
    "plt.ylabel('Time to complete 10 Oscillations ')\n",
    "plt.xlabel('Time (s)')\n",
    "plt.title('Oscillations in relation to weight')\n",
    "plt.axis([50, 350, 0.2, 1])\n",
    "\n",
    "import numpy as np\n",
    "import matplotlib.pyplot as plt\n",
    "\n",
    "x = [100,200,300]\n",
    "y = [3.98,5.38,6.62]\n",
    "\n",
    "fit = np.polyfit(x,y,1)\n",
    "fit_fn = np.poly1d(fit) \n",
    "\n",
    "plt.plot(x,y, 'bo', x, fit_fn(x), '--k')\n",
    "plt.xlim(95, 305)\n",
    "plt.ylim(3.5, 6.7)\n",
    "\n",
    "print(fit_fn)\n"
   ]
  },
  {
   "cell_type": "markdown",
   "metadata": {
    "collapsed": true
   },
   "source": [
    "## Results"
   ]
  },
  {
   "cell_type": "markdown",
   "metadata": {},
   "source": [
    "Equation of line: $$y = 0.0132x + 2.687$$"
   ]
  },
  {
   "cell_type": "markdown",
   "metadata": {},
   "source": [
    "## Conclusion"
   ]
  },
  {
   "cell_type": "markdown",
   "metadata": {
    "collapsed": true
   },
   "source": [
    "With our data we made a model that shows how the oscillation time is linearly proportional to the amount of weight on the spring. When we added more weight the period of oscillation would proportionaly increase. We can conclude that our data collected by our experiment does follow Hooke's law. \n"
   ]
  }
 ],
 "metadata": {
  "kernelspec": {
   "display_name": "Python 3",
   "language": "python",
   "name": "python3"
  },
  "language_info": {
   "codemirror_mode": {
    "name": "ipython",
    "version": 3
   },
   "file_extension": ".py",
   "mimetype": "text/x-python",
   "name": "python",
   "nbconvert_exporter": "python",
   "pygments_lexer": "ipython3",
   "version": "3.5.2"
  }
 },
 "nbformat": 4,
 "nbformat_minor": 0
}
